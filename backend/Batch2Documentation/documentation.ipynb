{
 "cells": [
  {
   "cell_type": "markdown",
   "metadata": {},
   "source": [
    "### Input\n",
    "$\\underline U =$ const \\\n",
    "$\\alpha =$ const \\\n",
    "$\\overline V =$ const \\\n",
    "$c_0 =$ const \\\n",
    "$\\delta =$ const \\\n",
    "$t = \\underline {\\text{input}}$ \\\n",
    "$W = \\underline {\\text{input}}$  \\\n",
    "$\\max(p(d))$ const \\\n",
    "$\\text{GlobalMaxRent} =$ const \\\n",
    "$\\text{LocalMaxRent} =$ const\n"
   ]
  },
  {
   "cell_type": "markdown",
   "metadata": {},
   "source": [
    "### Computed\n",
    "$N = $ popSize \\\n",
    "$\\overline d = $ cityEdge = radius \\\n",
    "city = \\{ \\\n",
    "    h $\\forall$ block \\\n",
    "    H = #houses \\\n",
    "    \\}"
   ]
  },
  {
   "cell_type": "markdown",
   "metadata": {},
   "source": [
    "### Functions to define\n",
    "$c(n) = c_0 h^\\delta$ \\\n",
    "$p(d) = \\delta c_0 h ^{\\delta - 1}$\n",
    "$H(d) = \\dfrac {\\alpha} {p(d)}$ \\\n",
    "$h(d) = \\dfrac {H(d)} {L(d)} = H(d) \\cdot \\nabla (\\delta)$ \\\n",
    "$L(d) = \\dfrac {H(d)} {h(d)}$"
   ]
  },
  {
   "cell_type": "markdown",
   "metadata": {},
   "source": [
    "### Formulas\n",
    "#### Land Price\n",
    "$$r(d) = (\\delta - 1) \\delta ^{\\dfrac{\\delta}{1-\\delta}}\\cdot c_0^{\\dfrac{1}{1-\\delta}}\\cdot \\alpha^{\\dfrac{\\delta}{\\delta - 1}}\\cdot \\exp \\left(\\dfrac{\\delta(W-\\underline U - \\alpha - td)}{\\alpha (\\delta -1)}\\right)$$\n",
    "\n",
    "#### Density Gradient\n",
    "$$\n",
    "\\nabla(\\delta) = \\dfrac{1}{L(d)} = \\dfrac{h(d)}{H(d)} = \\delta^{\\dfrac{1}{1-\\delta}}\\cdot c_0^{\\dfrac{1}{1-\\delta}} \\cdot \\delta^{\\dfrac{1}{\\delta-1}}\\cdot \\exp\\left(\\dfrac{\\delta-\\underline U - \\alpha - td}{\\delta (\\delta - 1)}\\right)\n",
    "$$\n",
    "\n",
    "#### City edge\n",
    "$$\n",
    "\\overline d = - \\dfrac{\\alpha \\cdot (\\delta - 1)\\cdot \\ln{\\left(\\dfrac{\\overline r}{(\\delta -1)\\cdot \\delta^{\\dfrac{\\delta}{1-\\delta}} \\cdot c_0^{\\dfrac{1}{1-\\delta}} \\cdot \\alpha^{\\dfrac{\\delta}{\\delta - 1}}}\\right)} -\\delta W + \\delta \\underline U + \\delta \\alpha}{\\delta t}\n",
    "$$\n",
    "\n",
    "#### Population\n",
    "$$\n",
    "N = \\int_0^{\\overline d}2\\pi\\cdot d\\left(\\dfrac{1}{L(d)}\\right)dd = \\left[2\\pi d\\left(\\dfrac{1}{L(d)}\\right)\\right]^{\\overline d}_0\n",
    "$$\n",
    "\n",
    "#### Max Profit\n",
    "$$\n",
    "MP = p(d)nL-c(h)L-r(d)L\n",
    "$$\n",
    "\n",
    "#### Efficient h\n",
    "$$\n",
    "    Eh \\Rarr c'(h) = p(d) = \\delta c_0 h^{\\delta - 1} = p(d) \\Longleftrightarrow h*=\\delta ^ {\\dfrac{1}{1-\\delta}}\\cdot c_0 ^ {\\dfrac{1}{1-\\delta}} \\cdot p(d) ^ {\\dfrac{\\delta}{\\delta-1}}\n",
    "$$"
   ]
  }
 ],
 "metadata": {
  "language_info": {
   "name": "python"
  }
 },
 "nbformat": 4,
 "nbformat_minor": 2
}
